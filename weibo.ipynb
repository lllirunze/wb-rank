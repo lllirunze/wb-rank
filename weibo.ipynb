{
 "cells": [
  {
   "cell_type": "code",
   "execution_count": 1,
   "metadata": {},
   "outputs": [],
   "source": [
    "# 微博热搜 URL\n",
    "URL = \"https://s.weibo.com/top/summary?cate=realtimehot\""
   ]
  },
  {
   "cell_type": "code",
   "execution_count": 2,
   "metadata": {},
   "outputs": [],
   "source": [
    "# 请求头\n",
    "HEADERS = {\n",
    "    \"User-Agent\": \"Mozilla/5.0 (Windows NT 10.0; Win64; x64) AppleWebKit/537.36 (KHTML, like Gecko) Chrome/132.0.0.0 Safari/537.36\",\n",
    "    \"Accept\": \"text/html,application/xhtml+xml,application/xml;q=0.9,image/avif,image/webp,image/apng,*/*;q=0.8,application/signed-exchange;v=b3;q=0.7\",\n",
    "    \"Accept-Encoding\": \"gzip, deflate, br, zstd\",\n",
    "    \"Accept-Language\": \"zh-CN,zh;q=0.9,en-US;q=0.8,en;q=0.7\",\n",
    "    \"Cookie\": \"SUB=_2AkMQyRPJf8NxqwFRmf8Ry27rb49_zAHEieKmleISJRMxHRl-yT9kqmYatRB6O0k9JnzofRZMctfVkDf1xx0d17jzPRAp; SUBP=0033WrSXqPxfM72-Ws9jqgMF55529P9D9WWKlzaX.QZFSPs6zb4bK4.5; _s_tentry=passport.weibo.com; Apache=2728838988131.0146.1737858304629; SINAGLOBAL=2728838988131.0146.1737858304629; ULV=1737858304643:1:1:1:2728838988131.0146.1737858304629:\"\n",
    "}"
   ]
  },
  {
   "cell_type": "code",
   "execution_count": 3,
   "metadata": {},
   "outputs": [],
   "source": [
    "import requests\n",
    "from bs4 import BeautifulSoup\n",
    "import pandas as pd\n",
    "import os\n",
    "from datetime import datetime"
   ]
  },
  {
   "cell_type": "code",
   "execution_count": 4,
   "metadata": {},
   "outputs": [],
   "source": [
    "def fetch_weibo_hotsearch(url, headers):\n",
    "    \"\"\"爬取微博热搜页面\"\"\"\n",
    "    response = requests.get(url, headers=headers)\n",
    "    if response.status_code == 200:\n",
    "        return response.text\n",
    "    else:\n",
    "        print(f\"请求失败，状态码: {response.status_code}\")\n",
    "        return None"
   ]
  },
  {
   "cell_type": "code",
   "execution_count": 5,
   "metadata": {},
   "outputs": [],
   "source": [
    "def parse_hotsearch(html):\n",
    "    \"\"\"解析微博热搜内容\"\"\"\n",
    "    soup = BeautifulSoup(html, \"html.parser\")\n",
    "    hotsearch_list = []\n",
    "    table = soup.find(\"table\")\n",
    "    if table:\n",
    "        rows = table.find_all(\"tr\")[1:]  # 跳过表头\n",
    "        for row in rows:\n",
    "            keyword = row.find(\"td\", class_=\"td-02\")\n",
    "            hot_value = row.find(\"td\", class_=\"td-03\")\n",
    "\n",
    "            hotsearch_list.append({\n",
    "                \"Keyword\": keyword.a.get_text(strip=True) if keyword and keyword.a else \"-\",\n",
    "                \"Link\": f\"https://s.weibo.com{keyword.a['href']}\" if keyword and keyword.a and 'href' in keyword.a.attrs else \"-\",\n",
    "                \"Hot Value\": hot_value.get_text(strip=True) if hot_value else \"-\"\n",
    "            })\n",
    "    return hotsearch_list"
   ]
  },
  {
   "cell_type": "code",
   "execution_count": 7,
   "metadata": {},
   "outputs": [],
   "source": [
    "html = fetch_weibo_hotsearch(URL, HEADERS)"
   ]
  },
  {
   "cell_type": "code",
   "execution_count": 8,
   "metadata": {},
   "outputs": [
    {
     "name": "stdout",
     "output_type": "stream",
     "text": [
      "解析热搜内容...\n"
     ]
    }
   ],
   "source": [
    "if html:\n",
    "    print(\"解析热搜内容...\")\n",
    "else:\n",
    "    print(\"未能获取微博热搜页面。\")"
   ]
  },
  {
   "cell_type": "code",
   "execution_count": 9,
   "metadata": {},
   "outputs": [],
   "source": [
    "hotsearch_data = parse_hotsearch(html)"
   ]
  },
  {
   "cell_type": "code",
   "execution_count": 10,
   "metadata": {},
   "outputs": [
    {
     "name": "stdout",
     "output_type": "stream",
     "text": [
      "保存热搜到文件...\n"
     ]
    }
   ],
   "source": [
    "if hotsearch_data:\n",
    "    print(\"保存热搜到文件...\")\n",
    "else:\n",
    "    print(\"未能解析到热搜数据。\")"
   ]
  },
  {
   "cell_type": "code",
   "execution_count": 11,
   "metadata": {},
   "outputs": [],
   "source": [
    "def save_to_markdown(data, filename):\n",
    "    \"\"\"保存数据到Markdown文件\"\"\"\n",
    "    today = datetime.now()\n",
    "    year = today.strftime(\"%Y\")\n",
    "    month = today.strftime(\"%m\")\n",
    "    day = today.strftime(\"%d\")\n",
    "\n",
    "    # 创建文件夹结构\n",
    "    folder_path = os.path.join(year, month)\n",
    "    os.makedirs(folder_path, exist_ok=True)\n",
    "\n",
    "    # 文件路径\n",
    "    filename = os.path.join(folder_path, f\"{day}.md\")\n",
    "    title = f\"{year}年{month}月{day}日-微博热搜\"\n",
    "\n",
    "    with open(filename, \"w\", encoding=\"utf-8\") as f:\n",
    "        f.write(f\"# {title}\\n\\n\")\n",
    "        for item in data:\n",
    "            if item['Hot Value']:\n",
    "                f.write(f\"- [{item['Keyword']}]({item['Link']}) - [{item['Hot Value']}]\\n\")\n",
    "            else:\n",
    "                f.write(f\"- [{item['Keyword']}]({item['Link']})\\n\")\n",
    "    print(f\"数据已保存到 {filename}\")\n",
    "\n",
    "    # 更新根目录的README.md\n",
    "    readme_path = \"README.md\"\n",
    "    rank = 0\n",
    "    with open(readme_path, \"w\", encoding=\"utf-8\") as readme:\n",
    "        readme.write(f\"# {title}\\n\\n\")\n",
    "        for item in data:\n",
    "            rank += 1\n",
    "            if item['Hot Value']:\n",
    "                readme.write(f\"{rank}. [{item['Keyword']}]({item['Link']}) - [{item['Hot Value']}]\\n\")\n",
    "            else:\n",
    "                readme.write(f\"{rank}. [{item['Keyword']}]({item['Link']})\\n\")\n",
    "    print(f\"当天热搜已追加到根目录的 {readme_path}\")"
   ]
  },
  {
   "cell_type": "code",
   "execution_count": 12,
   "metadata": {},
   "outputs": [
    {
     "name": "stdout",
     "output_type": "stream",
     "text": [
      "数据已保存到 2025\\01\\25.md\n",
      "当天热搜已追加到根目录的 README.md\n"
     ]
    }
   ],
   "source": [
    "save_to_markdown(hotsearch_data, \"weibo_hotsearch.md\")"
   ]
  },
  {
   "cell_type": "code",
   "execution_count": null,
   "metadata": {},
   "outputs": [],
   "source": []
  }
 ],
 "metadata": {
  "kernelspec": {
   "display_name": "Python 3",
   "language": "python",
   "name": "python3"
  },
  "language_info": {
   "codemirror_mode": {
    "name": "ipython",
    "version": 3
   },
   "file_extension": ".py",
   "mimetype": "text/x-python",
   "name": "python",
   "nbconvert_exporter": "python",
   "pygments_lexer": "ipython3",
   "version": "3.9.11"
  }
 },
 "nbformat": 4,
 "nbformat_minor": 2
}
